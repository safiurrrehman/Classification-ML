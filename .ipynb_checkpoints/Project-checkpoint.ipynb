{
 "cells": [
  {
   "cell_type": "code",
   "execution_count": 1,
   "metadata": {},
   "outputs": [],
   "source": [
    "import pandas as pd\n",
    "import numpy as np\n",
    "\n",
    "import matplotlib.pyplot as plt\n",
    "%matplotlib inline\n",
    "import seaborn as sns\n",
    "\n",
    "import warnings\n",
    "warnings.filterwarnings('ignore')"
   ]
  },
  {
   "cell_type": "code",
   "execution_count": 2,
   "metadata": {},
   "outputs": [
    {
     "data": {
      "text/html": [
       "<div>\n",
       "<style scoped>\n",
       "    .dataframe tbody tr th:only-of-type {\n",
       "        vertical-align: middle;\n",
       "    }\n",
       "\n",
       "    .dataframe tbody tr th {\n",
       "        vertical-align: top;\n",
       "    }\n",
       "\n",
       "    .dataframe thead th {\n",
       "        text-align: right;\n",
       "    }\n",
       "</style>\n",
       "<table border=\"1\" class=\"dataframe\">\n",
       "  <thead>\n",
       "    <tr style=\"text-align: right;\">\n",
       "      <th></th>\n",
       "      <th>age</th>\n",
       "      <th>workclass</th>\n",
       "      <th>fnlwgt</th>\n",
       "      <th>education</th>\n",
       "      <th>education.num</th>\n",
       "      <th>marital.status</th>\n",
       "      <th>occupation</th>\n",
       "      <th>relationship</th>\n",
       "      <th>race</th>\n",
       "      <th>sex</th>\n",
       "      <th>capital.gain</th>\n",
       "      <th>capital.loss</th>\n",
       "      <th>hours.per.week</th>\n",
       "      <th>native.country</th>\n",
       "      <th>income</th>\n",
       "    </tr>\n",
       "  </thead>\n",
       "  <tbody>\n",
       "    <tr>\n",
       "      <th>0</th>\n",
       "      <td>90</td>\n",
       "      <td>?</td>\n",
       "      <td>77053</td>\n",
       "      <td>HS-grad</td>\n",
       "      <td>9</td>\n",
       "      <td>Widowed</td>\n",
       "      <td>?</td>\n",
       "      <td>Not-in-family</td>\n",
       "      <td>White</td>\n",
       "      <td>Female</td>\n",
       "      <td>0</td>\n",
       "      <td>4356</td>\n",
       "      <td>40</td>\n",
       "      <td>United-States</td>\n",
       "      <td>&lt;=50K</td>\n",
       "    </tr>\n",
       "    <tr>\n",
       "      <th>1</th>\n",
       "      <td>82</td>\n",
       "      <td>Private</td>\n",
       "      <td>132870</td>\n",
       "      <td>HS-grad</td>\n",
       "      <td>9</td>\n",
       "      <td>Widowed</td>\n",
       "      <td>Exec-managerial</td>\n",
       "      <td>Not-in-family</td>\n",
       "      <td>White</td>\n",
       "      <td>Female</td>\n",
       "      <td>0</td>\n",
       "      <td>4356</td>\n",
       "      <td>18</td>\n",
       "      <td>United-States</td>\n",
       "      <td>&lt;=50K</td>\n",
       "    </tr>\n",
       "    <tr>\n",
       "      <th>2</th>\n",
       "      <td>66</td>\n",
       "      <td>?</td>\n",
       "      <td>186061</td>\n",
       "      <td>Some-college</td>\n",
       "      <td>10</td>\n",
       "      <td>Widowed</td>\n",
       "      <td>?</td>\n",
       "      <td>Unmarried</td>\n",
       "      <td>Black</td>\n",
       "      <td>Female</td>\n",
       "      <td>0</td>\n",
       "      <td>4356</td>\n",
       "      <td>40</td>\n",
       "      <td>United-States</td>\n",
       "      <td>&lt;=50K</td>\n",
       "    </tr>\n",
       "    <tr>\n",
       "      <th>3</th>\n",
       "      <td>54</td>\n",
       "      <td>Private</td>\n",
       "      <td>140359</td>\n",
       "      <td>7th-8th</td>\n",
       "      <td>4</td>\n",
       "      <td>Divorced</td>\n",
       "      <td>Machine-op-inspct</td>\n",
       "      <td>Unmarried</td>\n",
       "      <td>White</td>\n",
       "      <td>Female</td>\n",
       "      <td>0</td>\n",
       "      <td>3900</td>\n",
       "      <td>40</td>\n",
       "      <td>United-States</td>\n",
       "      <td>&lt;=50K</td>\n",
       "    </tr>\n",
       "    <tr>\n",
       "      <th>4</th>\n",
       "      <td>41</td>\n",
       "      <td>Private</td>\n",
       "      <td>264663</td>\n",
       "      <td>Some-college</td>\n",
       "      <td>10</td>\n",
       "      <td>Separated</td>\n",
       "      <td>Prof-specialty</td>\n",
       "      <td>Own-child</td>\n",
       "      <td>White</td>\n",
       "      <td>Female</td>\n",
       "      <td>0</td>\n",
       "      <td>3900</td>\n",
       "      <td>40</td>\n",
       "      <td>United-States</td>\n",
       "      <td>&lt;=50K</td>\n",
       "    </tr>\n",
       "  </tbody>\n",
       "</table>\n",
       "</div>"
      ],
      "text/plain": [
       "   age workclass  fnlwgt     education  education.num marital.status  \\\n",
       "0   90         ?   77053       HS-grad              9        Widowed   \n",
       "1   82   Private  132870       HS-grad              9        Widowed   \n",
       "2   66         ?  186061  Some-college             10        Widowed   \n",
       "3   54   Private  140359       7th-8th              4       Divorced   \n",
       "4   41   Private  264663  Some-college             10      Separated   \n",
       "\n",
       "          occupation   relationship   race     sex  capital.gain  \\\n",
       "0                  ?  Not-in-family  White  Female             0   \n",
       "1    Exec-managerial  Not-in-family  White  Female             0   \n",
       "2                  ?      Unmarried  Black  Female             0   \n",
       "3  Machine-op-inspct      Unmarried  White  Female             0   \n",
       "4     Prof-specialty      Own-child  White  Female             0   \n",
       "\n",
       "   capital.loss  hours.per.week native.country income  \n",
       "0          4356              40  United-States  <=50K  \n",
       "1          4356              18  United-States  <=50K  \n",
       "2          4356              40  United-States  <=50K  \n",
       "3          3900              40  United-States  <=50K  \n",
       "4          3900              40  United-States  <=50K  "
      ]
     },
     "execution_count": 2,
     "metadata": {},
     "output_type": "execute_result"
    }
   ],
   "source": [
    "data = pd.read_csv('adults.csv')\n",
    "\n",
    "data.head()"
   ]
  },
  {
   "cell_type": "code",
   "execution_count": 3,
   "metadata": {},
   "outputs": [
    {
     "data": {
      "text/html": [
       "<div>\n",
       "<style scoped>\n",
       "    .dataframe tbody tr th:only-of-type {\n",
       "        vertical-align: middle;\n",
       "    }\n",
       "\n",
       "    .dataframe tbody tr th {\n",
       "        vertical-align: top;\n",
       "    }\n",
       "\n",
       "    .dataframe thead th {\n",
       "        text-align: right;\n",
       "    }\n",
       "</style>\n",
       "<table border=\"1\" class=\"dataframe\">\n",
       "  <thead>\n",
       "    <tr style=\"text-align: right;\">\n",
       "      <th></th>\n",
       "      <th>age</th>\n",
       "      <th>fnlwgt</th>\n",
       "      <th>education.num</th>\n",
       "      <th>capital.gain</th>\n",
       "      <th>capital.loss</th>\n",
       "      <th>hours.per.week</th>\n",
       "    </tr>\n",
       "  </thead>\n",
       "  <tbody>\n",
       "    <tr>\n",
       "      <th>count</th>\n",
       "      <td>32561.000000</td>\n",
       "      <td>3.256100e+04</td>\n",
       "      <td>32561.000000</td>\n",
       "      <td>32561.000000</td>\n",
       "      <td>32561.000000</td>\n",
       "      <td>32561.000000</td>\n",
       "    </tr>\n",
       "    <tr>\n",
       "      <th>mean</th>\n",
       "      <td>38.581647</td>\n",
       "      <td>1.897784e+05</td>\n",
       "      <td>10.080679</td>\n",
       "      <td>1077.648844</td>\n",
       "      <td>87.303830</td>\n",
       "      <td>40.437456</td>\n",
       "    </tr>\n",
       "    <tr>\n",
       "      <th>std</th>\n",
       "      <td>13.640433</td>\n",
       "      <td>1.055500e+05</td>\n",
       "      <td>2.572720</td>\n",
       "      <td>7385.292085</td>\n",
       "      <td>402.960219</td>\n",
       "      <td>12.347429</td>\n",
       "    </tr>\n",
       "    <tr>\n",
       "      <th>min</th>\n",
       "      <td>17.000000</td>\n",
       "      <td>1.228500e+04</td>\n",
       "      <td>1.000000</td>\n",
       "      <td>0.000000</td>\n",
       "      <td>0.000000</td>\n",
       "      <td>1.000000</td>\n",
       "    </tr>\n",
       "    <tr>\n",
       "      <th>25%</th>\n",
       "      <td>28.000000</td>\n",
       "      <td>1.178270e+05</td>\n",
       "      <td>9.000000</td>\n",
       "      <td>0.000000</td>\n",
       "      <td>0.000000</td>\n",
       "      <td>40.000000</td>\n",
       "    </tr>\n",
       "    <tr>\n",
       "      <th>50%</th>\n",
       "      <td>37.000000</td>\n",
       "      <td>1.783560e+05</td>\n",
       "      <td>10.000000</td>\n",
       "      <td>0.000000</td>\n",
       "      <td>0.000000</td>\n",
       "      <td>40.000000</td>\n",
       "    </tr>\n",
       "    <tr>\n",
       "      <th>75%</th>\n",
       "      <td>48.000000</td>\n",
       "      <td>2.370510e+05</td>\n",
       "      <td>12.000000</td>\n",
       "      <td>0.000000</td>\n",
       "      <td>0.000000</td>\n",
       "      <td>45.000000</td>\n",
       "    </tr>\n",
       "    <tr>\n",
       "      <th>max</th>\n",
       "      <td>90.000000</td>\n",
       "      <td>1.484705e+06</td>\n",
       "      <td>16.000000</td>\n",
       "      <td>99999.000000</td>\n",
       "      <td>4356.000000</td>\n",
       "      <td>99.000000</td>\n",
       "    </tr>\n",
       "  </tbody>\n",
       "</table>\n",
       "</div>"
      ],
      "text/plain": [
       "                age        fnlwgt  education.num  capital.gain  capital.loss  \\\n",
       "count  32561.000000  3.256100e+04   32561.000000  32561.000000  32561.000000   \n",
       "mean      38.581647  1.897784e+05      10.080679   1077.648844     87.303830   \n",
       "std       13.640433  1.055500e+05       2.572720   7385.292085    402.960219   \n",
       "min       17.000000  1.228500e+04       1.000000      0.000000      0.000000   \n",
       "25%       28.000000  1.178270e+05       9.000000      0.000000      0.000000   \n",
       "50%       37.000000  1.783560e+05      10.000000      0.000000      0.000000   \n",
       "75%       48.000000  2.370510e+05      12.000000      0.000000      0.000000   \n",
       "max       90.000000  1.484705e+06      16.000000  99999.000000   4356.000000   \n",
       "\n",
       "       hours.per.week  \n",
       "count    32561.000000  \n",
       "mean        40.437456  \n",
       "std         12.347429  \n",
       "min          1.000000  \n",
       "25%         40.000000  \n",
       "50%         40.000000  \n",
       "75%         45.000000  \n",
       "max         99.000000  "
      ]
     },
     "execution_count": 3,
     "metadata": {},
     "output_type": "execute_result"
    }
   ],
   "source": [
    "data.describe()"
   ]
  },
  {
   "cell_type": "markdown",
   "metadata": {},
   "source": [
    "As seen in the above table and having a general overview, we can see that `capital.gain` attribute has great investments put in. It reaches maximum of 99999, but it is considered as a market cap.\n",
    "Having a general look on `hours.per.week`, we can see that minimum number and maximum someone had worked are 1 and 99 respectively. This seems to be an outlier as no one can work this low and gain something or have enough time to work that much as well. And same goes with the `age` attribute. We'll take care of these details while preparing our dataset. "
   ]
  },
  {
   "cell_type": "code",
   "execution_count": 4,
   "metadata": {},
   "outputs": [
    {
     "name": "stdout",
     "output_type": "stream",
     "text": [
      "<class 'pandas.core.frame.DataFrame'>\n",
      "RangeIndex: 32561 entries, 0 to 32560\n",
      "Data columns (total 15 columns):\n",
      " #   Column          Non-Null Count  Dtype \n",
      "---  ------          --------------  ----- \n",
      " 0   age             32561 non-null  int64 \n",
      " 1   workclass       32561 non-null  object\n",
      " 2   fnlwgt          32561 non-null  int64 \n",
      " 3   education       32561 non-null  object\n",
      " 4   education.num   32561 non-null  int64 \n",
      " 5   marital.status  32561 non-null  object\n",
      " 6   occupation      32561 non-null  object\n",
      " 7   relationship    32561 non-null  object\n",
      " 8   race            32561 non-null  object\n",
      " 9   sex             32561 non-null  object\n",
      " 10  capital.gain    32561 non-null  int64 \n",
      " 11  capital.loss    32561 non-null  int64 \n",
      " 12  hours.per.week  32561 non-null  int64 \n",
      " 13  native.country  32561 non-null  object\n",
      " 14  income          32561 non-null  object\n",
      "dtypes: int64(6), object(9)\n",
      "memory usage: 3.7+ MB\n"
     ]
    }
   ],
   "source": [
    "data.info()"
   ]
  },
  {
   "cell_type": "code",
   "execution_count": 5,
   "metadata": {},
   "outputs": [
    {
     "data": {
      "text/plain": [
       "age               0\n",
       "workclass         0\n",
       "fnlwgt            0\n",
       "education         0\n",
       "education.num     0\n",
       "marital.status    0\n",
       "occupation        0\n",
       "relationship      0\n",
       "race              0\n",
       "sex               0\n",
       "capital.gain      0\n",
       "capital.loss      0\n",
       "hours.per.week    0\n",
       "native.country    0\n",
       "income            0\n",
       "dtype: int64"
      ]
     },
     "execution_count": 5,
     "metadata": {},
     "output_type": "execute_result"
    }
   ],
   "source": [
    "data[data == '>50K. '].count()"
   ]
  },
  {
   "cell_type": "markdown",
   "metadata": {},
   "source": [
    "### 1.1 Data Preparation"
   ]
  },
  {
   "cell_type": "markdown",
   "metadata": {},
   "source": [
    "The two class variables that we are going to predict are:\n",
    "1. income (<= 50K or > 50K)\n",
    "2. sex (Male of Female)"
   ]
  },
  {
   "cell_type": "code",
   "execution_count": 6,
   "metadata": {},
   "outputs": [
    {
     "name": "stdout",
     "output_type": "stream",
     "text": [
      "Number of \"?\" appearing in each column:\n",
      "age                  0\n",
      "workclass         1836\n",
      "fnlwgt               0\n",
      "education            0\n",
      "education.num        0\n",
      "marital.status       0\n",
      "occupation        1843\n",
      "relationship         0\n",
      "race                 0\n",
      "sex                  0\n",
      "capital.gain         0\n",
      "capital.loss         0\n",
      "hours.per.week       0\n",
      "native.country     583\n",
      "income               0\n",
      "dtype: int64\n",
      "\n",
      "*******************\n",
      "\n",
      "Number of \"?\" appearing in each column after removing them:\n",
      "age               0\n",
      "workclass         0\n",
      "fnlwgt            0\n",
      "education         0\n",
      "education.num     0\n",
      "marital.status    0\n",
      "occupation        0\n",
      "relationship      0\n",
      "race              0\n",
      "sex               0\n",
      "capital.gain      0\n",
      "capital.loss      0\n",
      "hours.per.week    0\n",
      "native.country    0\n",
      "income            0\n",
      "dtype: int64\n"
     ]
    }
   ],
   "source": [
    "print('Number of \"?\" appearing in each column:')\n",
    "print(data[data == '?'].count())\n",
    "\n",
    "print('\\n*******************\\n')\n",
    "\n",
    "data.replace('?', np.nan, inplace=True)\n",
    "\n",
    "print('Number of \"?\" appearing in each column after removing them:')\n",
    "print(data[data == '?'].count())"
   ]
  },
  {
   "cell_type": "code",
   "execution_count": 7,
   "metadata": {},
   "outputs": [
    {
     "name": "stdout",
     "output_type": "stream",
     "text": [
      "Number of missing instances in each column.\n",
      "age                  0\n",
      "workclass         1836\n",
      "fnlwgt               0\n",
      "education            0\n",
      "education.num        0\n",
      "marital.status       0\n",
      "occupation        1843\n",
      "relationship         0\n",
      "race                 0\n",
      "sex                  0\n",
      "capital.gain         0\n",
      "capital.loss         0\n",
      "hours.per.week       0\n",
      "native.country     583\n",
      "income               0\n",
      "dtype: int64\n",
      "\n",
      "****************************\n",
      "\n",
      "\n",
      "****************************\n",
      "\n",
      "Number of missing instances in each column after filling.\n",
      "age               0\n",
      "workclass         0\n",
      "fnlwgt            0\n",
      "education         0\n",
      "education.num     0\n",
      "marital.status    0\n",
      "occupation        0\n",
      "relationship      0\n",
      "race              0\n",
      "sex               0\n",
      "capital.gain      0\n",
      "capital.loss      0\n",
      "hours.per.week    0\n",
      "native.country    0\n",
      "income            0\n",
      "dtype: int64\n"
     ]
    }
   ],
   "source": [
    "# columns having missing values\n",
    "print('Number of missing instances in each column.')\n",
    "print(data.isnull().sum())\n",
    "        \n",
    "print('\\n****************************\\n')\n",
    "\n",
    "for col in data.columns:\n",
    "    if data[col].isnull().any():\n",
    "        data[col] = data[col].fillna(data[col].value_counts().index[0])\n",
    "        \n",
    "print('\\n****************************\\n')\n",
    "\n",
    "print('Number of missing instances in each column after filling.')\n",
    "print(data.isnull().sum())\n",
    "\n",
    "# for col in data.columns:\n",
    "#         print(col, '        \\t', data[col].isnull().sum())"
   ]
  },
  {
   "cell_type": "code",
   "execution_count": 8,
   "metadata": {},
   "outputs": [
    {
     "name": "stdout",
     "output_type": "stream",
     "text": [
      "Number of duplicate rows in the dataset:  24\n",
      "\n",
      "Shape of data before removing the duplicate rows:  (32561, 15)\n",
      "\n",
      "Shape of data after removing the duplicate rows:  (32537, 15)\n",
      "\n",
      "Number of duplicate rows after removing the duplicates rows:  0\n"
     ]
    },
    {
     "data": {
      "text/html": [
       "<div>\n",
       "<style scoped>\n",
       "    .dataframe tbody tr th:only-of-type {\n",
       "        vertical-align: middle;\n",
       "    }\n",
       "\n",
       "    .dataframe tbody tr th {\n",
       "        vertical-align: top;\n",
       "    }\n",
       "\n",
       "    .dataframe thead th {\n",
       "        text-align: right;\n",
       "    }\n",
       "</style>\n",
       "<table border=\"1\" class=\"dataframe\">\n",
       "  <thead>\n",
       "    <tr style=\"text-align: right;\">\n",
       "      <th></th>\n",
       "      <th>age</th>\n",
       "      <th>workclass</th>\n",
       "      <th>fnlwgt</th>\n",
       "      <th>education</th>\n",
       "      <th>education.num</th>\n",
       "      <th>marital.status</th>\n",
       "      <th>occupation</th>\n",
       "      <th>relationship</th>\n",
       "      <th>race</th>\n",
       "      <th>sex</th>\n",
       "      <th>capital.gain</th>\n",
       "      <th>capital.loss</th>\n",
       "      <th>hours.per.week</th>\n",
       "      <th>native.country</th>\n",
       "      <th>income</th>\n",
       "    </tr>\n",
       "  </thead>\n",
       "  <tbody>\n",
       "  </tbody>\n",
       "</table>\n",
       "</div>"
      ],
      "text/plain": [
       "Empty DataFrame\n",
       "Columns: [age, workclass, fnlwgt, education, education.num, marital.status, occupation, relationship, race, sex, capital.gain, capital.loss, hours.per.week, native.country, income]\n",
       "Index: []"
      ]
     },
     "execution_count": 8,
     "metadata": {},
     "output_type": "execute_result"
    }
   ],
   "source": [
    "print('Number of duplicate rows in the dataset: ', data.duplicated().sum())\n",
    "print('\\nShape of data before removing the duplicate rows: ', data.shape)\n",
    "\n",
    "# dropping duplicates\n",
    "data = data.drop_duplicates()\n",
    "print('\\nShape of data after removing the duplicate rows: ', data.shape)\n",
    "\n",
    "\n",
    "print('\\nNumber of duplicate rows after removing the duplicates rows: ', data.duplicated().sum())\n",
    "data[data.duplicated()]"
   ]
  },
  {
   "cell_type": "markdown",
   "metadata": {},
   "source": [
    "We remove duplicates to avoid any overfiting of the model while training.\n",
    "\n",
    "We can now see that there are no more duplicate values."
   ]
  },
  {
   "cell_type": "code",
   "execution_count": 9,
   "metadata": {},
   "outputs": [
    {
     "name": "stdout",
     "output_type": "stream",
     "text": [
      "\n",
      " Maximum age in the data before removing the outliers 90\n",
      "\n",
      "99.5 quantile of the age :  78.0\n",
      "\n",
      "Maximum age in the data after removing the outliers is:  77\n"
     ]
    },
    {
     "data": {
      "image/png": "[encoded data removed]",
      "text/plain": [
       "<Figure size 432x288 with 1 Axes>"
      ]
     },
     "metadata": {
      "needs_background": "light"
     },
     "output_type": "display_data"
    }
   ],
   "source": [
    "sns.boxplot('age', data=data)\n",
    "\n",
    "print('\\n Maximum age in the data before removing the outliers', data.age.max())\n",
    "\n",
    "print('\\n99.5 quantile of the age : ', data.age.quantile(0.995))\n",
    "\n",
    "data = data[data.age < data.age.quantile(0.995)]\n",
    "\n",
    "print('\\nMaximum age in the data after removing the outliers is: ', data.age.max())\n"
   ]
  },
  {
   "cell_type": "markdown",
   "metadata": {},
   "source": [
    "We can see that for columns `age` any values after `78` seems to be an outlier and it is intuitive because it is very difficult to earn at this stage of the life. Removing these types of outliers can help us clean the data as well as in making good prediction. The maximum `age` in this data set is now `77`."
   ]
  },
  {
   "cell_type": "code",
   "execution_count": 10,
   "metadata": {},
   "outputs": [
    {
     "name": "stdout",
     "output_type": "stream",
     "text": [
      "Maximun value in educaton num:  16\n",
      "Minimun value in educaton num:  1\n"
     ]
    },
    {
     "data": {
      "text/plain": [
       "<matplotlib.axes._subplots.AxesSubplot at 0x12464f6d0>"
      ]
     },
     "execution_count": 10,
     "metadata": {},
     "output_type": "execute_result"
    },
    {
     "data": {
      "image/png": "[encoded data removed]",
      "text/plain": [
       "<Figure size 432x288 with 1 Axes>"
      ]
     },
     "metadata": {
      "needs_background": "light"
     },
     "output_type": "display_data"
    }
   ],
   "source": [
    "print('Maximun value in educaton num: ', data['education.num'].max())\n",
    "print('Minimun value in educaton num: ', data['education.num'].min())\n",
    "sns.boxplot('education.num', data=data)"
   ]
  },
  {
   "cell_type": "markdown",
   "metadata": {},
   "source": [
    "Here for the `education_num` column we can see that all those adults which have education lower than 5 is an outlier but that can't be the case everytime because there may be people with no education and may be they earn very well. So we won't remove these."
   ]
  },
  {
   "cell_type": "code",
   "execution_count": 11,
   "metadata": {},
   "outputs": [
    {
     "name": "stdout",
     "output_type": "stream",
     "text": [
      "Maximum value of Hours Per Week column before handling the outliers:  99\n",
      "\n",
      "Minimum value of Hours Per Week column before handling the outliers:  1\n",
      "\n",
      "\n",
      "Maximum value of Hours Per Week column after handling the outliers:  59\n",
      "\n",
      "Minimum value of Hours Per Week column after handling the outliers:  16\n"
     ]
    },
    {
     "data": {
      "image/png": "[encoded data removed]",
      "text/plain": [
       "<Figure size 432x288 with 1 Axes>"
      ]
     },
     "metadata": {
      "needs_background": "light"
     },
     "output_type": "display_data"
    }
   ],
   "source": [
    "print('Maximum value of Hours Per Week column before handling the outliers: ' ,data['hours.per.week'].max())\n",
    "print('\\nMinimum value of Hours Per Week column before handling the outliers: ' ,data['hours.per.week'].min())\n",
    "\n",
    "sns.boxplot(data['hours.per.week'])\n",
    "\n",
    "hpw_low = data['hours.per.week'].quantile(0.04)\n",
    "hpw_high = data['hours.per.week'].quantile(0.93)\n",
    "\n",
    "data = data[(data['hours.per.week'] > hpw_low) & (data['hours.per.week'] < hpw_high)]\n",
    "\n",
    "print('\\n\\nMaximum value of Hours Per Week column after handling the outliers: ' ,data['hours.per.week'].max())\n",
    "print('\\nMinimum value of Hours Per Week column after handling the outliers: ' ,data['hours.per.week'].min())"
   ]
  },
  {
   "cell_type": "markdown",
   "metadata": {},
   "source": [
    "For the `hours.per.week` column, we can see that more 90 percent of the data is treated as outlier and that can't be the case.It is common sense that nobody can work 100 hours per week and is also not common to work for hours betweeen 1 and 10 per week. So for this column we would take values from 15 to 60 hours per week.\n",
    "\n",
    "As shown in the above cell, the max and the min values now for the `hours.per.week` are `59` and `16` respectively."
   ]
  },
  {
   "cell_type": "code",
   "execution_count": 12,
   "metadata": {},
   "outputs": [
    {
     "data": {
      "text/plain": [
       "(28463, 15)"
      ]
     },
     "execution_count": 12,
     "metadata": {},
     "output_type": "execute_result"
    }
   ],
   "source": [
    "data.shape"
   ]
  },
  {
   "cell_type": "markdown",
   "metadata": {},
   "source": [
    "Number of rows has been reduced now due to dropping values from the columns `age` and `hours_per_week` and now at this stage we are having `28463` rows and `15` columns."
   ]
  },
  {
   "cell_type": "code",
   "execution_count": 13,
   "metadata": {},
   "outputs": [
    {
     "data": {
      "text/html": [
       "<div>\n",
       "<style scoped>\n",
       "    .dataframe tbody tr th:only-of-type {\n",
       "        vertical-align: middle;\n",
       "    }\n",
       "\n",
       "    .dataframe tbody tr th {\n",
       "        vertical-align: top;\n",
       "    }\n",
       "\n",
       "    .dataframe thead th {\n",
       "        text-align: right;\n",
       "    }\n",
       "</style>\n",
       "<table border=\"1\" class=\"dataframe\">\n",
       "  <thead>\n",
       "    <tr style=\"text-align: right;\">\n",
       "      <th></th>\n",
       "      <th>age</th>\n",
       "      <th>fnlwgt</th>\n",
       "      <th>education.num</th>\n",
       "      <th>capital.gain</th>\n",
       "      <th>capital.loss</th>\n",
       "      <th>hours.per.week</th>\n",
       "    </tr>\n",
       "  </thead>\n",
       "  <tbody>\n",
       "    <tr>\n",
       "      <th>age</th>\n",
       "      <td>1.000000</td>\n",
       "      <td>-0.075306</td>\n",
       "      <td>0.031150</td>\n",
       "      <td>0.081406</td>\n",
       "      <td>0.055908</td>\n",
       "      <td>0.117077</td>\n",
       "    </tr>\n",
       "    <tr>\n",
       "      <th>fnlwgt</th>\n",
       "      <td>-0.075306</td>\n",
       "      <td>1.000000</td>\n",
       "      <td>-0.048148</td>\n",
       "      <td>-0.005956</td>\n",
       "      <td>-0.010253</td>\n",
       "      <td>-0.014060</td>\n",
       "    </tr>\n",
       "    <tr>\n",
       "      <th>education.num</th>\n",
       "      <td>0.031150</td>\n",
       "      <td>-0.048148</td>\n",
       "      <td>1.000000</td>\n",
       "      <td>0.107801</td>\n",
       "      <td>0.074986</td>\n",
       "      <td>0.148723</td>\n",
       "    </tr>\n",
       "    <tr>\n",
       "      <th>capital.gain</th>\n",
       "      <td>0.081406</td>\n",
       "      <td>-0.005956</td>\n",
       "      <td>0.107801</td>\n",
       "      <td>1.000000</td>\n",
       "      <td>-0.030466</td>\n",
       "      <td>0.065904</td>\n",
       "    </tr>\n",
       "    <tr>\n",
       "      <th>capital.loss</th>\n",
       "      <td>0.055908</td>\n",
       "      <td>-0.010253</td>\n",
       "      <td>0.074986</td>\n",
       "      <td>-0.030466</td>\n",
       "      <td>1.000000</td>\n",
       "      <td>0.051870</td>\n",
       "    </tr>\n",
       "    <tr>\n",
       "      <th>hours.per.week</th>\n",
       "      <td>0.117077</td>\n",
       "      <td>-0.014060</td>\n",
       "      <td>0.148723</td>\n",
       "      <td>0.065904</td>\n",
       "      <td>0.051870</td>\n",
       "      <td>1.000000</td>\n",
       "    </tr>\n",
       "  </tbody>\n",
       "</table>\n",
       "</div>"
      ],
      "text/plain": [
       "                     age    fnlwgt  education.num  capital.gain  capital.loss  \\\n",
       "age             1.000000 -0.075306       0.031150      0.081406      0.055908   \n",
       "fnlwgt         -0.075306  1.000000      -0.048148     -0.005956     -0.010253   \n",
       "education.num   0.031150 -0.048148       1.000000      0.107801      0.074986   \n",
       "capital.gain    0.081406 -0.005956       0.107801      1.000000     -0.030466   \n",
       "capital.loss    0.055908 -0.010253       0.074986     -0.030466      1.000000   \n",
       "hours.per.week  0.117077 -0.014060       0.148723      0.065904      0.051870   \n",
       "\n",
       "                hours.per.week  \n",
       "age                   0.117077  \n",
       "fnlwgt               -0.014060  \n",
       "education.num         0.148723  \n",
       "capital.gain          0.065904  \n",
       "capital.loss          0.051870  \n",
       "hours.per.week        1.000000  "
      ]
     },
     "execution_count": 13,
     "metadata": {},
     "output_type": "execute_result"
    }
   ],
   "source": [
    "correlation = data.corr()\n",
    "\n",
    "correlation"
   ]
  },
  {
   "cell_type": "code",
   "execution_count": 14,
   "metadata": {},
   "outputs": [
    {
     "data": {
      "text/plain": [
       "<matplotlib.axes._subplots.AxesSubplot at 0x12329b810>"
      ]
     },
     "execution_count": 14,
     "metadata": {},
     "output_type": "execute_result"
    },
    {
     "data": {
      "image/png": "[encoded data removed]",
      "text/plain": [
       "<Figure size 720x576 with 2 Axes>"
      ]
     },
     "metadata": {
      "needs_background": "light"
     },
     "output_type": "display_data"
    }
   ],
   "source": [
    "plt.figure(figsize=(10, 8))\n",
    "sns.heatmap(correlation, annot=True, yticklabels=False, cmap='Purples')"
   ]
  },
  {
   "cell_type": "markdown",
   "metadata": {},
   "source": [
    "This heatmap shows there is little to none correlation between attributes due to majority of the boxes are are showing correlation of around 0.5 which is normal. Since the correlation of `capital_gain`, `capital_loss`, and `fnlwgt` are negative with many of the other attributes, so it's better to drop them from the dataset."
   ]
  },
  {
   "cell_type": "code",
   "execution_count": 15,
   "metadata": {},
   "outputs": [
    {
     "data": {
      "text/plain": [
       "(28463, 14)"
      ]
     },
     "execution_count": 15,
     "metadata": {},
     "output_type": "execute_result"
    }
   ],
   "source": [
    "data = data.drop('fnlwgt', axis=1)\n",
    "\n",
    "data.shape"
   ]
  },
  {
   "cell_type": "code",
   "execution_count": 16,
   "metadata": {},
   "outputs": [
    {
     "data": {
      "text/plain": [
       "Index(['age', 'workclass', 'education.num', 'marital.status', 'occupation',\n",
       "       'relationship', 'race', 'sex', 'capital.gain', 'capital.loss',\n",
       "       'hours.per.week', 'native.country', 'income'],\n",
       "      dtype='object')"
      ]
     },
     "execution_count": 16,
     "metadata": {},
     "output_type": "execute_result"
    }
   ],
   "source": [
    "data.drop('education', axis=1, inplace=True)\n",
    "data.columns"
   ]
  },
  {
   "cell_type": "markdown",
   "metadata": {},
   "source": [
    "We have two different columns with same kind of information, `education.num` and `education`. `education` has the values of the education of the adults in string form while `education_num` have those values in integer form. So it is better to have only one of them and drop the other one because both are telling us the same information. We are going to drop `education` because the `education_num` is already in integer form so we won't need to convert it to numerical column as it is already there."
   ]
  },
  {
   "cell_type": "code",
   "execution_count": 17,
   "metadata": {},
   "outputs": [
    {
     "name": "stdout",
     "output_type": "stream",
     "text": [
      "Number of individuals that are not from US:  2489\n",
      "\n",
      "Number of individuals that are from US:  25974\n"
     ]
    }
   ],
   "source": [
    "print('Number of individuals that are not from US: ',data[data['native.country']!='United-States'].shape[0])\n",
    "\n",
    "print('\\nNumber of individuals that are from US: ', data[data['native.country']== 'United-States'].shape[0])"
   ]
  },
  {
   "cell_type": "markdown",
   "metadata": {},
   "source": [
    "Out of `28463` individuals, `25974` of them are from `United-States` and only `2489` are from `40` other different countries. The sum of all the individuals that are not in `United-States` is `2489` which is very much of a low value as compared to `25974` which are from US. That is why we combined all those who aren't from US to compare it with those who are from US. If we didn't do this then after one hot encoding we will get so many columns from only one column, that is why it is better to combine all other countries and rename it as `Others`."
   ]
  },
  {
   "cell_type": "code",
   "execution_count": 18,
   "metadata": {},
   "outputs": [
    {
     "data": {
      "text/plain": [
       "United-States    25974\n",
       "Others            2489\n",
       "Name: native.country, dtype: int64"
      ]
     },
     "execution_count": 18,
     "metadata": {},
     "output_type": "execute_result"
    }
   ],
   "source": [
    "data['native.country'] = data['native.country'].replace(['Mexico', 'Greece', 'Vietnam', 'China',\n",
    "       'Philippines', 'Trinadad&Tobago', 'Canada', 'South',\n",
    "       'Holand-Netherlands', 'Puerto-Rico', 'Poland', 'Iran', 'England',\n",
    "       'Germany', 'Japan', 'Hong', 'Taiwan', 'India', 'Ireland',\n",
    "       'Cambodia', 'Peru', 'Nicaragua', 'Dominican-Republic', 'Haiti',\n",
    "       'El-Salvador', 'Columbia', 'Guatemala', 'Cuba', 'Jamaica', 'Italy',\n",
    "       'France', 'Yugoslavia', 'Scotland', 'Portugal', 'Ecuador', 'Laos',\n",
    "       'Hungary', 'Honduras', 'Outlying-US(Guam-USVI-etc)', 'Thailand'], 'Others')\n",
    "\n",
    "data['native.country'].value_counts()"
   ]
  },
  {
   "cell_type": "code",
   "execution_count": 19,
   "metadata": {},
   "outputs": [],
   "source": [
    "data.income   =   data.income.replace({'<=50K': 0, '>50K': 1})\n",
    "data.sex  =   data.sex.replace({'Female': 0, 'Male': 1})"
   ]
  },
  {
   "cell_type": "markdown",
   "metadata": {},
   "source": [
    "Replacing both the `income` and `sex` columns with `0s` and `1s`. For the `income` column `0` means `<=50K` and `1` means `>50K` while for the `sex` column `0` is for `female` and `1` is for `male` as both of these will be our final predicting variables for our classification tasks and it is necessary for both of them to be in numerical attribute."
   ]
  },
  {
   "cell_type": "code",
   "execution_count": 20,
   "metadata": {},
   "outputs": [],
   "source": [
    "categorical_features = data.select_dtypes(include='object')\n",
    "numerical_features = data.select_dtypes(exclude='object')"
   ]
  },
  {
   "cell_type": "markdown",
   "metadata": {},
   "source": [
    "Splitting the `data` into `categorical_features` and `numerical_features`. The `categorical_features` of the data will be converted to dummy variables because all Machine Learning algorithms need numeric data for training as well as testing."
   ]
  },
  {
   "cell_type": "code",
   "execution_count": 21,
   "metadata": {},
   "outputs": [
    {
     "data": {
      "text/plain": [
       "Index(['workclass', 'marital.status', 'occupation', 'relationship', 'race',\n",
       "       'native.country'],\n",
       "      dtype='object')"
      ]
     },
     "execution_count": 21,
     "metadata": {},
     "output_type": "execute_result"
    }
   ],
   "source": [
    "categorical_features.columns"
   ]
  },
  {
   "cell_type": "code",
   "execution_count": 22,
   "metadata": {},
   "outputs": [
    {
     "data": {
      "text/plain": [
       "Index(['age', 'education.num', 'sex', 'capital.gain', 'capital.loss',\n",
       "       'hours.per.week', 'income'],\n",
       "      dtype='object')"
      ]
     },
     "execution_count": 22,
     "metadata": {},
     "output_type": "execute_result"
    }
   ],
   "source": [
    "numerical_features.columns"
   ]
  },
  {
   "cell_type": "code",
   "execution_count": 23,
   "metadata": {},
   "outputs": [
    {
     "data": {
      "text/html": [
       "<div>\n",
       "<style scoped>\n",
       "    .dataframe tbody tr th:only-of-type {\n",
       "        vertical-align: middle;\n",
       "    }\n",
       "\n",
       "    .dataframe tbody tr th {\n",
       "        vertical-align: top;\n",
       "    }\n",
       "\n",
       "    .dataframe thead th {\n",
       "        text-align: right;\n",
       "    }\n",
       "</style>\n",
       "<table border=\"1\" class=\"dataframe\">\n",
       "  <thead>\n",
       "    <tr style=\"text-align: right;\">\n",
       "      <th></th>\n",
       "      <th>workclass:Local-gov</th>\n",
       "      <th>workclass:Never-worked</th>\n",
       "      <th>workclass:Private</th>\n",
       "      <th>workclass:Self-emp-inc</th>\n",
       "      <th>workclass:Self-emp-not-inc</th>\n",
       "      <th>workclass:State-gov</th>\n",
       "      <th>workclass:Without-pay</th>\n",
       "      <th>marital.status:Married-AF-spouse</th>\n",
       "      <th>marital.status:Married-civ-spouse</th>\n",
       "      <th>marital.status:Married-spouse-absent</th>\n",
       "      <th>...</th>\n",
       "      <th>relationship:Not-in-family</th>\n",
       "      <th>relationship:Other-relative</th>\n",
       "      <th>relationship:Own-child</th>\n",
       "      <th>relationship:Unmarried</th>\n",
       "      <th>relationship:Wife</th>\n",
       "      <th>race:Asian-Pac-Islander</th>\n",
       "      <th>race:Black</th>\n",
       "      <th>race:Other</th>\n",
       "      <th>race:White</th>\n",
       "      <th>native.country:United-States</th>\n",
       "    </tr>\n",
       "  </thead>\n",
       "  <tbody>\n",
       "    <tr>\n",
       "      <th>2</th>\n",
       "      <td>0</td>\n",
       "      <td>0</td>\n",
       "      <td>1</td>\n",
       "      <td>0</td>\n",
       "      <td>0</td>\n",
       "      <td>0</td>\n",
       "      <td>0</td>\n",
       "      <td>0</td>\n",
       "      <td>0</td>\n",
       "      <td>0</td>\n",
       "      <td>...</td>\n",
       "      <td>0</td>\n",
       "      <td>0</td>\n",
       "      <td>0</td>\n",
       "      <td>1</td>\n",
       "      <td>0</td>\n",
       "      <td>0</td>\n",
       "      <td>1</td>\n",
       "      <td>0</td>\n",
       "      <td>0</td>\n",
       "      <td>1</td>\n",
       "    </tr>\n",
       "    <tr>\n",
       "      <th>3</th>\n",
       "      <td>0</td>\n",
       "      <td>0</td>\n",
       "      <td>1</td>\n",
       "      <td>0</td>\n",
       "      <td>0</td>\n",
       "      <td>0</td>\n",
       "      <td>0</td>\n",
       "      <td>0</td>\n",
       "      <td>0</td>\n",
       "      <td>0</td>\n",
       "      <td>...</td>\n",
       "      <td>0</td>\n",
       "      <td>0</td>\n",
       "      <td>0</td>\n",
       "      <td>1</td>\n",
       "      <td>0</td>\n",
       "      <td>0</td>\n",
       "      <td>0</td>\n",
       "      <td>0</td>\n",
       "      <td>1</td>\n",
       "      <td>1</td>\n",
       "    </tr>\n",
       "    <tr>\n",
       "      <th>4</th>\n",
       "      <td>0</td>\n",
       "      <td>0</td>\n",
       "      <td>1</td>\n",
       "      <td>0</td>\n",
       "      <td>0</td>\n",
       "      <td>0</td>\n",
       "      <td>0</td>\n",
       "      <td>0</td>\n",
       "      <td>0</td>\n",
       "      <td>0</td>\n",
       "      <td>...</td>\n",
       "      <td>0</td>\n",
       "      <td>0</td>\n",
       "      <td>1</td>\n",
       "      <td>0</td>\n",
       "      <td>0</td>\n",
       "      <td>0</td>\n",
       "      <td>0</td>\n",
       "      <td>0</td>\n",
       "      <td>1</td>\n",
       "      <td>1</td>\n",
       "    </tr>\n",
       "    <tr>\n",
       "      <th>5</th>\n",
       "      <td>0</td>\n",
       "      <td>0</td>\n",
       "      <td>1</td>\n",
       "      <td>0</td>\n",
       "      <td>0</td>\n",
       "      <td>0</td>\n",
       "      <td>0</td>\n",
       "      <td>0</td>\n",
       "      <td>0</td>\n",
       "      <td>0</td>\n",
       "      <td>...</td>\n",
       "      <td>0</td>\n",
       "      <td>0</td>\n",
       "      <td>0</td>\n",
       "      <td>1</td>\n",
       "      <td>0</td>\n",
       "      <td>0</td>\n",
       "      <td>0</td>\n",
       "      <td>0</td>\n",
       "      <td>1</td>\n",
       "      <td>1</td>\n",
       "    </tr>\n",
       "    <tr>\n",
       "      <th>6</th>\n",
       "      <td>0</td>\n",
       "      <td>0</td>\n",
       "      <td>1</td>\n",
       "      <td>0</td>\n",
       "      <td>0</td>\n",
       "      <td>0</td>\n",
       "      <td>0</td>\n",
       "      <td>0</td>\n",
       "      <td>0</td>\n",
       "      <td>0</td>\n",
       "      <td>...</td>\n",
       "      <td>0</td>\n",
       "      <td>0</td>\n",
       "      <td>0</td>\n",
       "      <td>1</td>\n",
       "      <td>0</td>\n",
       "      <td>0</td>\n",
       "      <td>0</td>\n",
       "      <td>0</td>\n",
       "      <td>1</td>\n",
       "      <td>1</td>\n",
       "    </tr>\n",
       "  </tbody>\n",
       "</table>\n",
       "<p>5 rows × 36 columns</p>\n",
       "</div>"
      ],
      "text/plain": [
       "   workclass:Local-gov  workclass:Never-worked  workclass:Private  \\\n",
       "2                    0                       0                  1   \n",
       "3                    0                       0                  1   \n",
       "4                    0                       0                  1   \n",
       "5                    0                       0                  1   \n",
       "6                    0                       0                  1   \n",
       "\n",
       "   workclass:Self-emp-inc  workclass:Self-emp-not-inc  workclass:State-gov  \\\n",
       "2                       0                           0                    0   \n",
       "3                       0                           0                    0   \n",
       "4                       0                           0                    0   \n",
       "5                       0                           0                    0   \n",
       "6                       0                           0                    0   \n",
       "\n",
       "   workclass:Without-pay  marital.status:Married-AF-spouse  \\\n",
       "2                      0                                 0   \n",
       "3                      0                                 0   \n",
       "4                      0                                 0   \n",
       "5                      0                                 0   \n",
       "6                      0                                 0   \n",
       "\n",
       "   marital.status:Married-civ-spouse  marital.status:Married-spouse-absent  \\\n",
       "2                                  0                                     0   \n",
       "3                                  0                                     0   \n",
       "4                                  0                                     0   \n",
       "5                                  0                                     0   \n",
       "6                                  0                                     0   \n",
       "\n",
       "   ...  relationship:Not-in-family  relationship:Other-relative  \\\n",
       "2  ...                           0                            0   \n",
       "3  ...                           0                            0   \n",
       "4  ...                           0                            0   \n",
       "5  ...                           0                            0   \n",
       "6  ...                           0                            0   \n",
       "\n",
       "   relationship:Own-child  relationship:Unmarried  relationship:Wife  \\\n",
       "2                       0                       1                  0   \n",
       "3                       0                       1                  0   \n",
       "4                       1                       0                  0   \n",
       "5                       0                       1                  0   \n",
       "6                       0                       1                  0   \n",
       "\n",
       "   race:Asian-Pac-Islander  race:Black  race:Other  race:White  \\\n",
       "2                        0           1           0           0   \n",
       "3                        0           0           0           1   \n",
       "4                        0           0           0           1   \n",
       "5                        0           0           0           1   \n",
       "6                        0           0           0           1   \n",
       "\n",
       "   native.country:United-States  \n",
       "2                             1  \n",
       "3                             1  \n",
       "4                             1  \n",
       "5                             1  \n",
       "6                             1  \n",
       "\n",
       "[5 rows x 36 columns]"
      ]
     },
     "execution_count": 23,
     "metadata": {},
     "output_type": "execute_result"
    }
   ],
   "source": [
    "one_hot_encoded = pd.get_dummies(categorical_features, prefix_sep=':', drop_first=True)\n",
    "one_hot_encoded.head()"
   ]
  },
  {
   "cell_type": "markdown",
   "metadata": {},
   "source": [
    "Converting all the `categorical_features` into dummy variables and dropping the first dummy variable in order convert categorical variables into a form that could be provided to ML algorithms to do a better job in prediction."
   ]
  },
  {
   "cell_type": "code",
   "execution_count": 24,
   "metadata": {},
   "outputs": [
    {
     "data": {
      "text/plain": [
       "Index(['workclass:Local-gov', 'workclass:Never-worked', 'workclass:Private',\n",
       "       'workclass:Self-emp-inc', 'workclass:Self-emp-not-inc',\n",
       "       'workclass:State-gov', 'workclass:Without-pay',\n",
       "       'marital.status:Married-AF-spouse', 'marital.status:Married-civ-spouse',\n",
       "       'marital.status:Married-spouse-absent', 'marital.status:Never-married',\n",
       "       'marital.status:Separated', 'marital.status:Widowed',\n",
       "       'occupation:Armed-Forces', 'occupation:Craft-repair',\n",
       "       'occupation:Exec-managerial', 'occupation:Farming-fishing',\n",
       "       'occupation:Handlers-cleaners', 'occupation:Machine-op-inspct',\n",
       "       'occupation:Other-service', 'occupation:Priv-house-serv',\n",
       "       'occupation:Prof-specialty', 'occupation:Protective-serv',\n",
       "       'occupation:Sales', 'occupation:Tech-support',\n",
       "       'occupation:Transport-moving', 'relationship:Not-in-family',\n",
       "       'relationship:Other-relative', 'relationship:Own-child',\n",
       "       'relationship:Unmarried', 'relationship:Wife',\n",
       "       'race:Asian-Pac-Islander', 'race:Black', 'race:Other', 'race:White',\n",
       "       'native.country:United-States'],\n",
       "      dtype='object')"
      ]
     },
     "execution_count": 24,
     "metadata": {},
     "output_type": "execute_result"
    }
   ],
   "source": [
    "#Here is the list of one-hot encoded attributes for clarification\n",
    "\n",
    "one_hot_encoded.columns"
   ]
  },
  {
   "cell_type": "code",
   "execution_count": 25,
   "metadata": {},
   "outputs": [],
   "source": [
    "income_data = pd.concat([numerical_features, one_hot_encoded], axis=1)\n",
    "sex_data    = pd.concat([numerical_features, one_hot_encoded], axis=1)\n",
    "\n",
    "income  =   income_data['income']\n",
    "sex     =   sex_data['sex']\n",
    "\n",
    "income_data =   income_data.drop('income', axis=1)\n",
    "sex_data    =   sex_data.drop('sex', axis=1)"
   ]
  },
  {
   "cell_type": "markdown",
   "metadata": {},
   "source": [
    "We are creating two different datasets, `income_data` and `sex_data`, in order to train the model on them for both the purposes (predicting the `income` and the `sex`). \n",
    "\n",
    "We are also making separate seriess of both the `income` and `sex` columns. These serieses (`income` and `sex`) will then be used as the Target Variables. For predicting the income of an individual, `income` series will be used as Target Variable for predicting the `income` and same for the other series i.e `sex` will be used as the Target Variable fro predicting the `sex` of an individual.\n",
    "\n",
    "Additionally, we are dropping the `income` column from `income_data` and `sex` column from `sex_data` as these two are our Target Variables. The `income_data` will be having the `sex` column and `sex_data` will be having the `income` column because we don't want to lose the information. The other reason of keeping the `sex` column in `income_data` is that it can be an important feature for predicting the income of an individual and also `income` can be an important feature for predicting the `sex` of an individual."
   ]
  },
  {
   "cell_type": "code",
   "execution_count": 26,
   "metadata": {},
   "outputs": [
    {
     "data": {
      "text/plain": [
       "True"
      ]
     },
     "execution_count": 26,
     "metadata": {},
     "output_type": "execute_result"
    }
   ],
   "source": [
    "len(income_data.columns) == len(sex_data.columns)"
   ]
  },
  {
   "cell_type": "code",
   "execution_count": 27,
   "metadata": {},
   "outputs": [
    {
     "data": {
      "text/plain": [
       "False"
      ]
     },
     "execution_count": 27,
     "metadata": {},
     "output_type": "execute_result"
    }
   ],
   "source": [
    "'income' in income_data.columns"
   ]
  },
  {
   "cell_type": "code",
   "execution_count": 28,
   "metadata": {},
   "outputs": [
    {
     "data": {
      "text/plain": [
       "False"
      ]
     },
     "execution_count": 28,
     "metadata": {},
     "output_type": "execute_result"
    }
   ],
   "source": [
    "'sex' in sex_data.columns"
   ]
  },
  {
   "cell_type": "markdown",
   "metadata": {},
   "source": [
    "The above few steps are just to calrify that there are no ambigous attributes being carried forwarded to the next major steps of training the model."
   ]
  },
  {
   "cell_type": "code",
   "execution_count": null,
   "metadata": {},
   "outputs": [],
   "source": []
  }
 ],
 "metadata": {
  "kernelspec": {
   "display_name": "Python 3",
   "language": "python",
   "name": "python3"
  },
  "language_info": {
   "codemirror_mode": {
    "name": "ipython",
    "version": 3
   },
   "file_extension": ".py",
   "mimetype": "text/x-python",
   "name": "python",
   "nbconvert_exporter": "python",
   "pygments_lexer": "ipython3",
   "version": "3.7.6"
  }
 },
 "nbformat": 4,
 "nbformat_minor": 4
}
